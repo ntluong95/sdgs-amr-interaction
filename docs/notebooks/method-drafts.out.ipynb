{
 "cells": [
  {
   "cell_type": "markdown",
   "metadata": {},
   "source": [
    "# \n",
    "\n",
    "# Draft idea for the Methods\n",
    "\n",
    "Illustration of the interaction between SDGs and AMR actions at goal level. Blue links show synergistic interactions between two goals, and red links are antagonistic interactions. The width of the link shows the strength of the interaction.\n",
    "\n",
    "Currently, common methods are used to assess the interactions between policy actions including literature reviews and content analysis, expert mapping, statistical-based (e.g. network analysis), or a multi-method approach, e.g., combining expert mapping with network analysis. Given the importance of context-specific in the analysis, we will select again the 10 countries in sub-study 2 as illustrative case studies. Findings derived from sub-study 2 elucidate the varying extents to which the drivers of AMR are targeted through the lens of SDGs and specific AMR actions. Based on that, we will conduct a series of pair-wise ranking of the interaction between multiple sets of SDG targets and AMR actions. Here we will likely use the seven step SDG interaction scale (Table 1) proposed by Nilsson et al. (2016, 2018) (1,2), in combined with literature review and expert elicitation. In addition, to advance the analysis and also to visualize results, we will turn the data into a network of interactions using network analysis techniques. Lastly, to identify a set of policies required to effectively address AMR, clustering techniques will be employed. Six transformative “pathways” for sustainable development:\n",
    "\n",
    "Social protection and decent jobs (SDG 1,3,4,5,8,10): Developing economies need more financing for social protection and decent jobs to achieve universal access to essential services, reduce inequalities and safeguard human rights and wellbeing. Education transformation (SDG 4,9): Developing economies, especially the least developed countries, need to boost education spending to empower vulnerable people, reduce inequalities and prepare for the green, digital economies of the future. Food systems (SDG 2,14,15): Transitioning to sustainable food systems is vital for ending hunger and improving livelihoods while protecting nature, but many developing economies are lagging behind due to insufficient spending. Climate change, biodiversity loss and pollution (SDG 6,13,14,15): Developing countries, especially least developed countries and small island developing states face big financial challenges to fight climate change, protect biodiversity and cut pollution. Energy transition (SDG 7,13): The energy transition is fundamental to achieving various Sustainable Development Goals. Although investments in clean energy have surged in advanced economies and China, they remain flat in other emerging and developing economies Inclusive digitalization (SDG 9): The largest gap in the current government spending trajectory hampers developing economies’ progress towards inclusive digitalization, such as universal access to digital resources and equal access to banking and financial services.\n",
    "\n",
    "## Gender equality (SDG 1,2,3,5,8)\n",
    "\n",
    "Reaching gender equality in developed economies in pivotal areas like ending poverty and hunger and advancing women’s equal participation in society demands targeted attention and more resources."
   ],
   "id": "a52619e7-945a-4244-b575-d7a0e3f60cbd"
  }
 ],
 "nbformat": 4,
 "nbformat_minor": 5,
 "metadata": {}
}
